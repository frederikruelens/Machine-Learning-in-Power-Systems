{
 "cells": [
  {
   "cell_type": "markdown",
   "metadata": {},
   "source": [
    "# Machine learning in power systems"
   ]
  },
  {
   "cell_type": "code",
   "execution_count": 1,
   "metadata": {
    "collapsed": true
   },
   "outputs": [],
   "source": [
    "import pandas as pd\n",
    "import numpy as np\n",
    "import matplotlib.pyplot as plt\n",
    "import time\n",
    "import pickle"
   ]
  },
  {
   "cell_type": "code",
   "execution_count": 2,
   "metadata": {
    "collapsed": true
   },
   "outputs": [],
   "source": [
    "data = pickle.load(open('electricity_prices_belgium.pkl', \"rb\"))"
   ]
  },
  {
   "cell_type": "markdown",
   "metadata": {},
   "source": [
    "# Visualize the data"
   ]
  },
  {
   "cell_type": "code",
   "execution_count": 5,
   "metadata": {
    "collapsed": false
   },
   "outputs": [
    {
     "name": "stdout",
     "output_type": "stream",
     "text": [
      "                           belpex  solar    wind\n",
      "2013-12-31 23:00:00+00:00   15.15    0.0  780.10\n",
      "2013-12-31 23:00:00+00:00   15.15    0.0  780.10\n",
      "2013-12-31 23:15:00+00:00   15.15    0.0  781.09\n",
      "2013-12-31 23:30:00+00:00   15.15    0.0  793.82\n",
      "2013-12-31 23:45:00+00:00   15.15    0.0  824.23\n",
      "                           belpex  solar    wind\n",
      "2016-12-31 21:45:00+00:00   35.00    0.0  330.47\n",
      "2016-12-31 22:00:00+00:00   34.94    0.0  347.93\n",
      "2016-12-31 22:15:00+00:00   34.94    0.0  375.27\n",
      "2016-12-31 22:30:00+00:00   34.94    0.0  376.38\n",
      "2016-12-31 22:45:00+00:00   34.94    0.0  399.91\n"
     ]
    }
   ],
   "source": [
    "print data.head()\n",
    "print data.tail()"
   ]
  },
  {
   "cell_type": "code",
   "execution_count": null,
   "metadata": {
    "collapsed": true
   },
   "outputs": [],
   "source": []
  }
 ],
 "metadata": {
  "kernelspec": {
   "display_name": "Python [Root]",
   "language": "python",
   "name": "Python [Root]"
  },
  "language_info": {
   "codemirror_mode": {
    "name": "ipython",
    "version": 2
   },
   "file_extension": ".py",
   "mimetype": "text/x-python",
   "name": "python",
   "nbconvert_exporter": "python",
   "pygments_lexer": "ipython2",
   "version": "2.7.12"
  }
 },
 "nbformat": 4,
 "nbformat_minor": 0
}
